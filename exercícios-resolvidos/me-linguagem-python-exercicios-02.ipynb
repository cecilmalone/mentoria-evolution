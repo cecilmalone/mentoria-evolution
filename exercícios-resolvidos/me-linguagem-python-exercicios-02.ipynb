{
 "cells": [
  {
   "cell_type": "markdown",
   "metadata": {},
   "source": [
    "# Mentoria Evolution - Exercícios Python "
   ]
  },
  {
   "cell_type": "markdown",
   "metadata": {},
   "source": [
    "https://minerandodados.com.br"
   ]
  },
  {
   "cell_type": "markdown",
   "metadata": {},
   "source": [
    "* Para executar uma célula digite **Control + enter** ou clique em **Run**.\n",
    "* As celulas para rodar script Python devem ser do tipo code.\n",
    "* Crie células abaixo das celulas que foram escrito o enunciado das questões com as respostas."
   ]
  },
  {
   "cell_type": "markdown",
   "metadata": {},
   "source": [
    "**Obs**: Caso de dúvidas, volte na aula anterior de Python. Não desista :)"
   ]
  },
  {
   "cell_type": "markdown",
   "metadata": {},
   "source": [
    "## Exercícios de Fixação"
   ]
  },
  {
   "cell_type": "markdown",
   "metadata": {},
   "source": [
    "1) Responda: É possível ter elementos de tipos difentes em uma mesma lista? Exemplo: strings e números?"
   ]
  },
  {
   "cell_type": "markdown",
   "metadata": {},
   "source": [
    "Sim."
   ]
  },
  {
   "cell_type": "markdown",
   "metadata": {},
   "source": [
    "2) Trabalhando com Listas, faça:\n",
    "- a) Cria uma lista de valores inteiros com o **nome** e **idades**.\n",
    "- b) Imprima apenas segundo elemento da lista.\n",
    "- c) Imprima a quantidade de elementos da lista.\n",
    "- d) Substitua o valor do segundo elemento da lista e imprima o resultado.\n",
    "- e) Imprima apenas os valores do segundo elemento em diante.\n",
    "- f) Remova qualquer elemento da lista e imprima o resultado.\n",
    "- g) Defina uma lista chamada salarios com os valores : **900,1200,1500,800,12587,10000**.\n",
    "- h) Verifique se contém o valor 10000 na lista de salarios.\n",
    "- i) Imprima o menor e maior valor da lista.\n",
    "- j) Adicione o valor 7000 a lista.\n",
    "- l) Extenda a lista com dois novos elementos utilizando apenas um método.\n",
    "- m) Imprima o índice do elemento de valor 800 da lista de salarios.\n",
    "- n) Faça uma ordenação dos valores da lista de salarios em ordem crescente e decrescente."
   ]
  },
  {
   "cell_type": "code",
   "execution_count": 1,
   "metadata": {},
   "outputs": [
    {
     "name": "stdout",
     "output_type": "stream",
     "text": [
      "43\n",
      "7\n",
      "[12, 57, 11, 56, 77, 88, 5]\n",
      "[57, 11, 56, 77, 88, 5]\n",
      "[]\n"
     ]
    }
   ],
   "source": [
    "idades = [12, 43, 11, 56, 77, 88, 5]\n",
    "print(idades[1])\n",
    "print(len(idades))\n",
    "idades[1] = 57\n",
    "print(idades)\n",
    "print(idades[1:])\n",
    "idades.clear()\n",
    "print(idades)"
   ]
  },
  {
   "cell_type": "code",
   "execution_count": 20,
   "metadata": {},
   "outputs": [],
   "source": [
    "salarios = [900,1200,1500,800,12587,10000]"
   ]
  },
  {
   "cell_type": "code",
   "execution_count": 22,
   "metadata": {},
   "outputs": [
    {
     "data": {
      "text/plain": [
       "True"
      ]
     },
     "execution_count": 22,
     "metadata": {},
     "output_type": "execute_result"
    }
   ],
   "source": [
    "10000 in salarios"
   ]
  },
  {
   "cell_type": "code",
   "execution_count": 21,
   "metadata": {},
   "outputs": [
    {
     "name": "stdout",
     "output_type": "stream",
     "text": [
      "800 12587\n",
      "[900, 1200, 1500, 800, 12587, 10000, 7000]\n",
      "3\n",
      "[800, 900, 1200, 1500, 1515, 7000, 10000, 12587, 68478]\n",
      "[68478, 12587, 10000, 7000, 1515, 1500, 1200, 900, 800]\n"
     ]
    }
   ],
   "source": [
    "print(min(salarios), max(salarios))\n",
    "salarios.append(7000)\n",
    "print(salarios)\n",
    "salarios.extend((1515, 68478))\n",
    "print(salarios.index(800))\n",
    "salarios.sort()\n",
    "print(salarios)\n",
    "salarios.sort(reverse=True)\n",
    "print(salarios)"
   ]
  },
  {
   "cell_type": "markdown",
   "metadata": {},
   "source": [
    "3) Trabalhando com dicionários:\n",
    "- a) Crie um dicionário para armazenar o nome e a idade de pessoas, Exemplo:\n",
    "    pessoas = {'Rodrigo':30, 'Fulana':18}\n",
    "- b) Imprima a idade da pessoa \"Fulana\"\n",
    "- c) Imprima as Chaves do dicionario criado anteriormente.\n",
    "- d) Imprima os valores das chaves do dicionário\n",
    "- e) Busque a chave \"Felipe\" se ela não existe insira esta e o valor 30 (obs: use o método setdefault())"
   ]
  },
  {
   "cell_type": "code",
   "execution_count": 25,
   "metadata": {},
   "outputs": [
    {
     "name": "stdout",
     "output_type": "stream",
     "text": [
      "18\n",
      "dict_keys(['Rodrigo', 'Fulana'])\n",
      "dict_values([30, 18])\n",
      "{'Rodrigo': 30, 'Fulana': 18, 'Felipe': 30}\n"
     ]
    }
   ],
   "source": [
    "pessoas = {'Rodrigo': 30, 'Fulana': 18}\n",
    "print(pessoas['Fulana'])\n",
    "print(pessoas.keys())\n",
    "print(pessoas.values())\n",
    "pessoas.setdefault('Felipe', 30)\n",
    "print(pessoas)"
   ]
  },
  {
   "cell_type": "markdown",
   "metadata": {},
   "source": [
    "4) Estruturas condicionais:\n",
    "- a) Verifique se 5 é maior que 1, se sim, imprima \"5 é maior que 1\"\n",
    "- b) crie as variávies x1 e y1, defina dois valores quaisquer para as duas variáveis. \n",
    "  Verifique se x1 é maior que y1. Se sim, imprima \"x1 é maior que y1\", senão imprima: \"y1 é maior que x1\"\n",
    "- c) Crie uma lista de valores como [2,3,4,5,6,7] e faça um loop para imprimir todos os valores na tela multiplicados por 2."
   ]
  },
  {
   "cell_type": "code",
   "execution_count": 26,
   "metadata": {},
   "outputs": [
    {
     "name": "stdout",
     "output_type": "stream",
     "text": [
      "5 é maior que 1\n"
     ]
    }
   ],
   "source": [
    "if 5 > 1:\n",
    "    print(\"5 é maior que 1\")"
   ]
  },
  {
   "cell_type": "code",
   "execution_count": 28,
   "metadata": {},
   "outputs": [
    {
     "name": "stdout",
     "output_type": "stream",
     "text": [
      "x1 é maior que y1\n"
     ]
    }
   ],
   "source": [
    "x1 = 10\n",
    "y1 = 5\n",
    "\n",
    "if x1 > y1:\n",
    "    print(\"x1 é maior que y1\")\n",
    "else:\n",
    "    print(\"y1 é maior que x1\")"
   ]
  },
  {
   "cell_type": "code",
   "execution_count": 29,
   "metadata": {},
   "outputs": [
    {
     "name": "stdout",
     "output_type": "stream",
     "text": [
      "4\n",
      "6\n",
      "8\n",
      "10\n",
      "12\n",
      "14\n"
     ]
    }
   ],
   "source": [
    "valores = [2,3,4,5,6,7]\n",
    "\n",
    "for valor in valores:\n",
    "    print(valor * 2)"
   ]
  },
  {
   "cell_type": "markdown",
   "metadata": {},
   "source": [
    "- Ao concluir, salve seu notebook e envie suas respostas para **contato@minerandodados.com.br**"
   ]
  }
 ],
 "metadata": {
  "kernelspec": {
   "display_name": "Python 3",
   "language": "python",
   "name": "python3"
  },
  "language_info": {
   "codemirror_mode": {
    "name": "ipython",
    "version": 3
   },
   "file_extension": ".py",
   "mimetype": "text/x-python",
   "name": "python",
   "nbconvert_exporter": "python",
   "pygments_lexer": "ipython3",
   "version": "3.7.0"
  },
  "widgets": {
   "application/vnd.jupyter.widget-state+json": {
    "state": {},
    "version_major": 2,
    "version_minor": 0
   }
  }
 },
 "nbformat": 4,
 "nbformat_minor": 2
}
